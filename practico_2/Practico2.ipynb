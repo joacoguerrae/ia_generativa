{
 "cells": [
  {
   "cell_type": "markdown",
   "metadata": {},
   "source": [
    "# Practico 2 - Redes Bayesianas y Estimación de distribuciones continuas.\n",
    "\n",
    "El objetivo de esta notebook es implementar las redes bayesianas sobre el dataset de Tennis y continuar explorando formas de estimar distribuciones pero esta vez sobre datos continuos. "
   ]
  },
  {
   "cell_type": "markdown",
   "metadata": {},
   "source": [
    "## Parte 1: Redes Bayesianas"
   ]
  },
  {
   "cell_type": "markdown",
   "metadata": {},
   "source": [
    "## Imports"
   ]
  },
  {
   "cell_type": "code",
   "execution_count": 1,
   "metadata": {},
   "outputs": [],
   "source": [
    "#!pip install pgmpy"
   ]
  },
  {
   "cell_type": "code",
   "execution_count": 2,
   "metadata": {},
   "outputs": [
    {
     "name": "stderr",
     "output_type": "stream",
     "text": [
      "c:\\Users\\joaco\\anaconda3\\envs\\ml-para-ia\\Lib\\site-packages\\tqdm\\auto.py:21: TqdmWarning: IProgress not found. Please update jupyter and ipywidgets. See https://ipywidgets.readthedocs.io/en/stable/user_install.html\n",
      "  from .autonotebook import tqdm as notebook_tqdm\n"
     ]
    }
   ],
   "source": [
    "import pandas as pd\n",
    "import networkx as nx\n",
    "import matplotlib.pyplot as plt\n",
    "from pgmpy.models import DiscreteBayesianNetwork\n",
    "from pgmpy.estimators import MaximumLikelihoodEstimator\n",
    "from pgmpy.inference import VariableElimination\n",
    "from scipy.stats import norm"
   ]
  },
  {
   "cell_type": "markdown",
   "metadata": {},
   "source": [
    "### Paso 1: Cargar los Datos y Construir el Modelo"
   ]
  },
  {
   "cell_type": "code",
   "execution_count": 3,
   "metadata": {},
   "outputs": [
    {
     "data": {
      "application/vnd.microsoft.datawrangler.viewer.v0+json": {
       "columns": [
        {
         "name": "index",
         "rawType": "int64",
         "type": "integer"
        },
        {
         "name": "Day",
         "rawType": "object",
         "type": "string"
        },
        {
         "name": "Outlook",
         "rawType": "object",
         "type": "string"
        },
        {
         "name": "Temp",
         "rawType": "object",
         "type": "string"
        },
        {
         "name": "Humidity",
         "rawType": "object",
         "type": "string"
        },
        {
         "name": "Wind",
         "rawType": "object",
         "type": "string"
        },
        {
         "name": "Tennis",
         "rawType": "object",
         "type": "string"
        }
       ],
       "ref": "f5c12e9d-c7cc-4150-b6cf-7e5adea9ee27",
       "rows": [
        [
         "0",
         "D1",
         "Sunny",
         "Hot",
         "High",
         "Weak",
         "No"
        ],
        [
         "1",
         "D2",
         "Sunny",
         "Hot",
         "High",
         "Strong",
         "No"
        ],
        [
         "2",
         "D3",
         "Overcast",
         "Hot",
         "High",
         "Weak",
         "Yes"
        ],
        [
         "3",
         "D4",
         "Rain",
         "Mild",
         "High",
         "Weak",
         "Yes"
        ],
        [
         "4",
         "D5",
         "Rain",
         "Cool",
         "Normal",
         "Weak",
         "Yes"
        ]
       ],
       "shape": {
        "columns": 6,
        "rows": 5
       }
      },
      "text/html": [
       "<div>\n",
       "<style scoped>\n",
       "    .dataframe tbody tr th:only-of-type {\n",
       "        vertical-align: middle;\n",
       "    }\n",
       "\n",
       "    .dataframe tbody tr th {\n",
       "        vertical-align: top;\n",
       "    }\n",
       "\n",
       "    .dataframe thead th {\n",
       "        text-align: right;\n",
       "    }\n",
       "</style>\n",
       "<table border=\"1\" class=\"dataframe\">\n",
       "  <thead>\n",
       "    <tr style=\"text-align: right;\">\n",
       "      <th></th>\n",
       "      <th>Day</th>\n",
       "      <th>Outlook</th>\n",
       "      <th>Temp</th>\n",
       "      <th>Humidity</th>\n",
       "      <th>Wind</th>\n",
       "      <th>Tennis</th>\n",
       "    </tr>\n",
       "  </thead>\n",
       "  <tbody>\n",
       "    <tr>\n",
       "      <th>0</th>\n",
       "      <td>D1</td>\n",
       "      <td>Sunny</td>\n",
       "      <td>Hot</td>\n",
       "      <td>High</td>\n",
       "      <td>Weak</td>\n",
       "      <td>No</td>\n",
       "    </tr>\n",
       "    <tr>\n",
       "      <th>1</th>\n",
       "      <td>D2</td>\n",
       "      <td>Sunny</td>\n",
       "      <td>Hot</td>\n",
       "      <td>High</td>\n",
       "      <td>Strong</td>\n",
       "      <td>No</td>\n",
       "    </tr>\n",
       "    <tr>\n",
       "      <th>2</th>\n",
       "      <td>D3</td>\n",
       "      <td>Overcast</td>\n",
       "      <td>Hot</td>\n",
       "      <td>High</td>\n",
       "      <td>Weak</td>\n",
       "      <td>Yes</td>\n",
       "    </tr>\n",
       "    <tr>\n",
       "      <th>3</th>\n",
       "      <td>D4</td>\n",
       "      <td>Rain</td>\n",
       "      <td>Mild</td>\n",
       "      <td>High</td>\n",
       "      <td>Weak</td>\n",
       "      <td>Yes</td>\n",
       "    </tr>\n",
       "    <tr>\n",
       "      <th>4</th>\n",
       "      <td>D5</td>\n",
       "      <td>Rain</td>\n",
       "      <td>Cool</td>\n",
       "      <td>Normal</td>\n",
       "      <td>Weak</td>\n",
       "      <td>Yes</td>\n",
       "    </tr>\n",
       "  </tbody>\n",
       "</table>\n",
       "</div>"
      ],
      "text/plain": [
       "  Day   Outlook  Temp Humidity    Wind Tennis\n",
       "0  D1     Sunny   Hot     High    Weak     No\n",
       "1  D2     Sunny   Hot     High  Strong     No\n",
       "2  D3  Overcast   Hot     High    Weak    Yes\n",
       "3  D4      Rain  Mild     High    Weak    Yes\n",
       "4  D5      Rain  Cool   Normal    Weak    Yes"
      ]
     },
     "execution_count": 3,
     "metadata": {},
     "output_type": "execute_result"
    }
   ],
   "source": [
    "# Cargar los datos\n",
    "data = pd.read_csv('./tennis.csv')\n",
    "data.head()"
   ]
  },
  {
   "cell_type": "markdown",
   "metadata": {},
   "source": [
    "Definimos variables aleatorias que vamos a usar. Por simplicidad en la visualización solo usaremos 3, pero puede usar todas las que quiera."
   ]
  },
  {
   "cell_type": "code",
   "execution_count": 4,
   "metadata": {},
   "outputs": [],
   "source": [
    "outlook = 'Outlook'\n",
    "temp = 'Temp'\n",
    "wind = 'Wind'\n",
    "tennis = 'Tennis'\n",
    "\n",
    "data = data[[outlook, temp, tennis]]"
   ]
  },
  {
   "cell_type": "markdown",
   "metadata": {},
   "source": [
    "Tenemos que definir las relaciones condicionales que hay entre estas variables, para eso vamos a definir las siguientes relaciones: \n",
    "\n",
    "- Tennis depende de Outlook\n",
    "- Tennis depende de Temp"
   ]
  },
  {
   "cell_type": "code",
   "execution_count": 5,
   "metadata": {},
   "outputs": [],
   "source": [
    "relations = [(outlook, tennis), (temp, tennis)]"
   ]
  },
  {
   "cell_type": "markdown",
   "metadata": {},
   "source": [
    "Teniendo las relaciones vamos a crear nuestro modelo!"
   ]
  },
  {
   "cell_type": "code",
   "execution_count": 6,
   "metadata": {},
   "outputs": [],
   "source": [
    "model = DiscreteBayesianNetwork (relations)"
   ]
  },
  {
   "cell_type": "markdown",
   "metadata": {},
   "source": [
    "Ahora que tenemos el modelo vamos a ajustarlo para que capture las probabilidades condicionales en las observaciones."
   ]
  },
  {
   "cell_type": "code",
   "execution_count": 7,
   "metadata": {},
   "outputs": [
    {
     "name": "stderr",
     "output_type": "stream",
     "text": [
      "INFO:pgmpy: Datatype (N=numerical, C=Categorical Unordered, O=Categorical Ordered) inferred from data: \n",
      " {'Outlook': 'C', 'Temp': 'C', 'Tennis': 'C'}\n"
     ]
    },
    {
     "data": {
      "text/plain": [
       "<pgmpy.models.DiscreteBayesianNetwork.DiscreteBayesianNetwork at 0x1e072158ec0>"
      ]
     },
     "execution_count": 7,
     "metadata": {},
     "output_type": "execute_result"
    }
   ],
   "source": [
    "# Aprender los CPDs desde los datos\n",
    "model.fit(data, estimator=MaximumLikelihoodEstimator)"
   ]
  },
  {
   "cell_type": "markdown",
   "metadata": {},
   "source": [
    "Verificamos si el modelo es valido."
   ]
  },
  {
   "cell_type": "code",
   "execution_count": 8,
   "metadata": {},
   "outputs": [
    {
     "data": {
      "text/plain": [
       "True"
      ]
     },
     "execution_count": 8,
     "metadata": {},
     "output_type": "execute_result"
    }
   ],
   "source": [
    "model.check_model()"
   ]
  },
  {
   "cell_type": "markdown",
   "metadata": {},
   "source": [
    "### Paso 2: Visualización del Grafo y CPDs"
   ]
  },
  {
   "cell_type": "code",
   "execution_count": 9,
   "metadata": {},
   "outputs": [],
   "source": [
    "def visualize_graph(model):\n",
    "    G = nx.DiGraph()\n",
    "    G.add_edges_from(model.edges())\n",
    "    plt.figure(figsize=(7, 5))\n",
    "    pos = nx.spring_layout(G)\n",
    "    nx.draw(G, pos, with_labels=True, node_size=10000, node_color=\"skyblue\", font_size=14, font_weight=\"bold\", arrowsize=30)\n",
    "    plt.title(\"Red Bayesiana del Dataset de Tenis\")\n",
    "    plt.show()"
   ]
  },
  {
   "cell_type": "code",
   "execution_count": 10,
   "metadata": {},
   "outputs": [
    {
     "data": {
      "image/png": "[encoded data removed]",
      "text/plain": [
       "<Figure size 700x500 with 1 Axes>"
      ]
     },
     "metadata": {},
     "output_type": "display_data"
    }
   ],
   "source": [
    "visualize_graph(model)"
   ]
  },
  {
   "cell_type": "code",
   "execution_count": 11,
   "metadata": {},
   "outputs": [
    {
     "name": "stdout",
     "output_type": "stream",
     "text": [
      "CPD de Outlook:\n",
      "+-------------------+----------+\n",
      "| Outlook(Overcast) | 0.285714 |\n",
      "+-------------------+----------+\n",
      "| Outlook(Rain)     | 0.357143 |\n",
      "+-------------------+----------+\n",
      "| Outlook(Sunny)    | 0.357143 |\n",
      "+-------------------+----------+\n",
      "CPD de Tennis:\n",
      "+-------------+-------------------+-----+----------------+----------------+\n",
      "| Outlook     | Outlook(Overcast) | ... | Outlook(Sunny) | Outlook(Sunny) |\n",
      "+-------------+-------------------+-----+----------------+----------------+\n",
      "| Temp        | Temp(Cool)        | ... | Temp(Hot)      | Temp(Mild)     |\n",
      "+-------------+-------------------+-----+----------------+----------------+\n",
      "| Tennis(No)  | 0.0               | ... | 1.0            | 0.5            |\n",
      "+-------------+-------------------+-----+----------------+----------------+\n",
      "| Tennis(Yes) | 1.0               | ... | 0.0            | 0.5            |\n",
      "+-------------+-------------------+-----+----------------+----------------+\n",
      "CPD de Temp:\n",
      "+------------+----------+\n",
      "| Temp(Cool) | 0.285714 |\n",
      "+------------+----------+\n",
      "| Temp(Hot)  | 0.285714 |\n",
      "+------------+----------+\n",
      "| Temp(Mild) | 0.428571 |\n",
      "+------------+----------+\n"
     ]
    }
   ],
   "source": [
    "for cpd in model.get_cpds():\n",
    "    print(f\"CPD de {cpd.variable}:\")\n",
    "    print(cpd)"
   ]
  },
  {
   "cell_type": "markdown",
   "metadata": {},
   "source": [
    "### Explicación:\n",
    "- **Estructura de la Red:** Los arcos en la red representan la relación de causa y efecto entre las variables. Aquí, las condiciones del clima influyen en la decisión de jugar tenis.\n",
    "- **CPDs:** Cada nodo tiene un CPD que describe la distribución de probabilidad condicional de la variable dada sus padres."
   ]
  },
  {
   "cell_type": "markdown",
   "metadata": {},
   "source": [
    "¿Por qué la tabla de Outlook y Temp solamente una columna mientras que la de Tennis tiene varias?\n",
    "\n",
    "    La de outlook tiene una sola columna porque no depende de ninguna otra variable aleatoria segun la red bayesiana definida, mientras que Tennis depende de Temp y de Overcast\n",
    "\n",
    "¿Cuántas columnas tiene la de Tennis? ¿Por qué?\n",
    "\n",
    "    La de Tennis tiene 9 columnas, porque son las combinaciones posibles entre Temp y Outlook"
   ]
  },
  {
   "cell_type": "code",
   "execution_count": 12,
   "metadata": {},
   "outputs": [
    {
     "name": "stdout",
     "output_type": "stream",
     "text": [
      "Variable: Outlook\n",
      "  Estados:\n",
      "    - Overcast\n",
      "    - Rain\n",
      "    - Sunny\n",
      "  Cardinalidad: 3\n",
      "\n",
      "Variable: Tennis\n",
      "  Estados:\n",
      "    - No\n",
      "    - Yes\n",
      "  Cardinalidad: 2\n",
      "\n",
      "Variable: Temp\n",
      "  Estados:\n",
      "    - Cool\n",
      "    - Hot\n",
      "    - Mild\n",
      "  Cardinalidad: 3\n",
      "\n"
     ]
    }
   ],
   "source": [
    "for cpd in model.get_cpds():\n",
    "    print(f\"Variable: {cpd.variable}\")\n",
    "    print(\"  Estados:\")\n",
    "    for state in cpd.state_names[cpd.variable]:\n",
    "        print(f\"    - {state}\")\n",
    "    print(f\"  Cardinalidad: {cpd.variable_card}\\n\")"
   ]
  },
  {
   "cell_type": "markdown",
   "metadata": {},
   "source": [
    "- **Cardinalidad:** Indica cuántos estados puede tener una variable."
   ]
  },
  {
   "cell_type": "markdown",
   "metadata": {},
   "source": [
    "### Paso 3: Inferencia en la Red\n",
    "\n",
    "**Inferencia:** Dado un conjunto de evidencias (ej. Outlook y Temp), la red calcula la probabilidad de que Tennis sea 'Yes' o 'No'."
   ]
  },
  {
   "cell_type": "code",
   "execution_count": 13,
   "metadata": {},
   "outputs": [
    {
     "name": "stdout",
     "output_type": "stream",
     "text": [
      "\n",
      "Resultado de la inferencia:\n",
      "+-------------+---------------+\n",
      "| Tennis      |   phi(Tennis) |\n",
      "+=============+===============+\n",
      "| Tennis(No)  |        0.5000 |\n",
      "+-------------+---------------+\n",
      "| Tennis(Yes) |        0.5000 |\n",
      "+-------------+---------------+\n"
     ]
    }
   ],
   "source": [
    "# Inferencia en la red bayesiana\n",
    "inferencia = VariableElimination(model)\n",
    "resultado = inferencia.query(variables=[tennis], evidence={outlook: 'Sunny', temp: 'Mild'})\n",
    "print(\"\\nResultado de la inferencia:\")\n",
    "print(resultado)"
   ]
  },
  {
   "cell_type": "markdown",
   "metadata": {},
   "source": [
    "### Ejercicios:\n",
    "1. Realice inferencias usando diferentes combinaciones de evidencias para observar cómo cambian las probabilidades.\n",
    "2. Cree otro modelo con diferentes relaciones y realice inferencias sobre este.\n",
    " Recuerde que puede agregar más variables (como por ej. Humudity o Wind)."
   ]
  },
  {
   "cell_type": "markdown",
   "metadata": {},
   "source": [
    "1."
   ]
  },
  {
   "cell_type": "code",
   "execution_count": 14,
   "metadata": {},
   "outputs": [
    {
     "name": "stdout",
     "output_type": "stream",
     "text": [
      "\n",
      "Resultado de la inferencia:\n",
      "+-------------+---------------+\n",
      "| Tennis      |   phi(Tennis) |\n",
      "+=============+===============+\n",
      "| Tennis(No)  |        0.0000 |\n",
      "+-------------+---------------+\n",
      "| Tennis(Yes) |        1.0000 |\n",
      "+-------------+---------------+\n"
     ]
    }
   ],
   "source": [
    "# Inferencia en la red bayesiana\n",
    "inferencia = VariableElimination(model)\n",
    "resultado = inferencia.query(variables=[tennis], evidence={outlook: 'Overcast', temp: 'Hot'})\n",
    "print(\"\\nResultado de la inferencia:\")\n",
    "print(resultado)"
   ]
  },
  {
   "cell_type": "code",
   "execution_count": 15,
   "metadata": {},
   "outputs": [
    {
     "name": "stdout",
     "output_type": "stream",
     "text": [
      "\n",
      "Resultado de la inferencia:\n",
      "+-------------+---------------+\n",
      "| Tennis      |   phi(Tennis) |\n",
      "+=============+===============+\n",
      "| Tennis(No)  |        0.5000 |\n",
      "+-------------+---------------+\n",
      "| Tennis(Yes) |        0.5000 |\n",
      "+-------------+---------------+\n"
     ]
    }
   ],
   "source": [
    "# Inferencia en la red bayesiana\n",
    "inferencia = VariableElimination(model)\n",
    "resultado = inferencia.query(variables=[tennis], evidence={outlook: 'Rain', temp: 'Cool'})\n",
    "print(\"\\nResultado de la inferencia:\")\n",
    "print(resultado)"
   ]
  },
  {
   "cell_type": "code",
   "execution_count": 16,
   "metadata": {},
   "outputs": [
    {
     "name": "stdout",
     "output_type": "stream",
     "text": [
      "\n",
      "Resultado de la inferencia:\n",
      "+-------------+---------------+\n",
      "| Tennis      |   phi(Tennis) |\n",
      "+=============+===============+\n",
      "| Tennis(No)  |        0.5000 |\n",
      "+-------------+---------------+\n",
      "| Tennis(Yes) |        0.5000 |\n",
      "+-------------+---------------+\n"
     ]
    }
   ],
   "source": [
    "# Inferencia en la red bayesiana\n",
    "inferencia = VariableElimination(model)\n",
    "resultado = inferencia.query(variables=[tennis], evidence={outlook: 'Rain', temp: 'Hot'})\n",
    "print(\"\\nResultado de la inferencia:\")\n",
    "print(resultado)"
   ]
  },
  {
   "cell_type": "markdown",
   "metadata": {},
   "source": [
    "2."
   ]
  },
  {
   "cell_type": "code",
   "execution_count": 17,
   "metadata": {},
   "outputs": [
    {
     "data": {
      "application/vnd.microsoft.datawrangler.viewer.v0+json": {
       "columns": [
        {
         "name": "index",
         "rawType": "int64",
         "type": "integer"
        },
        {
         "name": "Day",
         "rawType": "object",
         "type": "string"
        },
        {
         "name": "Outlook",
         "rawType": "object",
         "type": "string"
        },
        {
         "name": "Temp",
         "rawType": "object",
         "type": "string"
        },
        {
         "name": "Humidity",
         "rawType": "object",
         "type": "string"
        },
        {
         "name": "Wind",
         "rawType": "object",
         "type": "string"
        },
        {
         "name": "Tennis",
         "rawType": "object",
         "type": "string"
        }
       ],
       "ref": "b82a1d01-fe4e-49fa-810d-8216f292c0ff",
       "rows": [
        [
         "0",
         "D1",
         "Sunny",
         "Hot",
         "High",
         "Weak",
         "No"
        ],
        [
         "1",
         "D2",
         "Sunny",
         "Hot",
         "High",
         "Strong",
         "No"
        ],
        [
         "2",
         "D3",
         "Overcast",
         "Hot",
         "High",
         "Weak",
         "Yes"
        ],
        [
         "3",
         "D4",
         "Rain",
         "Mild",
         "High",
         "Weak",
         "Yes"
        ],
        [
         "4",
         "D5",
         "Rain",
         "Cool",
         "Normal",
         "Weak",
         "Yes"
        ]
       ],
       "shape": {
        "columns": 6,
        "rows": 5
       }
      },
      "text/html": [
       "<div>\n",
       "<style scoped>\n",
       "    .dataframe tbody tr th:only-of-type {\n",
       "        vertical-align: middle;\n",
       "    }\n",
       "\n",
       "    .dataframe tbody tr th {\n",
       "        vertical-align: top;\n",
       "    }\n",
       "\n",
       "    .dataframe thead th {\n",
       "        text-align: right;\n",
       "    }\n",
       "</style>\n",
       "<table border=\"1\" class=\"dataframe\">\n",
       "  <thead>\n",
       "    <tr style=\"text-align: right;\">\n",
       "      <th></th>\n",
       "      <th>Day</th>\n",
       "      <th>Outlook</th>\n",
       "      <th>Temp</th>\n",
       "      <th>Humidity</th>\n",
       "      <th>Wind</th>\n",
       "      <th>Tennis</th>\n",
       "    </tr>\n",
       "  </thead>\n",
       "  <tbody>\n",
       "    <tr>\n",
       "      <th>0</th>\n",
       "      <td>D1</td>\n",
       "      <td>Sunny</td>\n",
       "      <td>Hot</td>\n",
       "      <td>High</td>\n",
       "      <td>Weak</td>\n",
       "      <td>No</td>\n",
       "    </tr>\n",
       "    <tr>\n",
       "      <th>1</th>\n",
       "      <td>D2</td>\n",
       "      <td>Sunny</td>\n",
       "      <td>Hot</td>\n",
       "      <td>High</td>\n",
       "      <td>Strong</td>\n",
       "      <td>No</td>\n",
       "    </tr>\n",
       "    <tr>\n",
       "      <th>2</th>\n",
       "      <td>D3</td>\n",
       "      <td>Overcast</td>\n",
       "      <td>Hot</td>\n",
       "      <td>High</td>\n",
       "      <td>Weak</td>\n",
       "      <td>Yes</td>\n",
       "    </tr>\n",
       "    <tr>\n",
       "      <th>3</th>\n",
       "      <td>D4</td>\n",
       "      <td>Rain</td>\n",
       "      <td>Mild</td>\n",
       "      <td>High</td>\n",
       "      <td>Weak</td>\n",
       "      <td>Yes</td>\n",
       "    </tr>\n",
       "    <tr>\n",
       "      <th>4</th>\n",
       "      <td>D5</td>\n",
       "      <td>Rain</td>\n",
       "      <td>Cool</td>\n",
       "      <td>Normal</td>\n",
       "      <td>Weak</td>\n",
       "      <td>Yes</td>\n",
       "    </tr>\n",
       "  </tbody>\n",
       "</table>\n",
       "</div>"
      ],
      "text/plain": [
       "  Day   Outlook  Temp Humidity    Wind Tennis\n",
       "0  D1     Sunny   Hot     High    Weak     No\n",
       "1  D2     Sunny   Hot     High  Strong     No\n",
       "2  D3  Overcast   Hot     High    Weak    Yes\n",
       "3  D4      Rain  Mild     High    Weak    Yes\n",
       "4  D5      Rain  Cool   Normal    Weak    Yes"
      ]
     },
     "execution_count": 17,
     "metadata": {},
     "output_type": "execute_result"
    }
   ],
   "source": [
    "# Cargar los datos\n",
    "data = pd.read_csv('./tennis.csv')\n",
    "data.head()"
   ]
  },
  {
   "cell_type": "code",
   "execution_count": 25,
   "metadata": {},
   "outputs": [],
   "source": [
    "outlook = 'Outlook'\n",
    "temp = 'Temp'\n",
    "wind = 'Wind'\n",
    "tennis = 'Tennis'\n",
    "humidity = 'Humidity'\n",
    "\n",
    "data = data[[outlook, temp, tennis, wind, humidity]]"
   ]
  },
  {
   "cell_type": "code",
   "execution_count": 26,
   "metadata": {},
   "outputs": [],
   "source": [
    "relations_2 = [(humidity,outlook),(temp,outlook),(wind,humidity),(outlook,tennis)]"
   ]
  },
  {
   "cell_type": "code",
   "execution_count": 27,
   "metadata": {},
   "outputs": [],
   "source": [
    "model_2 = DiscreteBayesianNetwork (relations_2)"
   ]
  },
  {
   "cell_type": "code",
   "execution_count": 28,
   "metadata": {},
   "outputs": [
    {
     "name": "stderr",
     "output_type": "stream",
     "text": [
      "INFO:pgmpy: Datatype (N=numerical, C=Categorical Unordered, O=Categorical Ordered) inferred from data: \n",
      " {'Outlook': 'C', 'Temp': 'C', 'Tennis': 'C', 'Wind': 'C', 'Humidity': 'C'}\n"
     ]
    },
    {
     "data": {
      "text/plain": [
       "<pgmpy.models.DiscreteBayesianNetwork.DiscreteBayesianNetwork at 0x1e0725b2e90>"
      ]
     },
     "execution_count": 28,
     "metadata": {},
     "output_type": "execute_result"
    }
   ],
   "source": [
    "model_2.fit(data, estimator=MaximumLikelihoodEstimator)"
   ]
  },
  {
   "cell_type": "code",
   "execution_count": 29,
   "metadata": {},
   "outputs": [
    {
     "data": {
      "text/plain": [
       "True"
      ]
     },
     "execution_count": 29,
     "metadata": {},
     "output_type": "execute_result"
    }
   ],
   "source": [
    "model_2.check_model()"
   ]
  },
  {
   "cell_type": "code",
   "execution_count": 30,
   "metadata": {},
   "outputs": [
    {
     "data": {
      "image/png": "[encoded data removed]",
      "text/plain": [
       "<Figure size 700x500 with 1 Axes>"
      ]
     },
     "metadata": {},
     "output_type": "display_data"
    }
   ],
   "source": [
    "visualize_graph(model_2)"
   ]
  },
  {
   "cell_type": "code",
   "execution_count": 32,
   "metadata": {},
   "outputs": [
    {
     "name": "stdout",
     "output_type": "stream",
     "text": [
      "\n",
      "Resultado de la inferencia:\n",
      "+-------------+---------------+\n",
      "| Tennis      |   phi(Tennis) |\n",
      "+=============+===============+\n",
      "| Tennis(No)  |        0.6000 |\n",
      "+-------------+---------------+\n",
      "| Tennis(Yes) |        0.4000 |\n",
      "+-------------+---------------+\n"
     ]
    }
   ],
   "source": [
    "# Inferencia en la red bayesiana\n",
    "inferencia = VariableElimination(model_2)\n",
    "resultado = inferencia.query(variables=[tennis], evidence={outlook: 'Sunny', temp: 'Mild', humidity: 'High', wind: 'Weak'})\n",
    "print(\"\\nResultado de la inferencia:\")\n",
    "print(resultado)"
   ]
  },
  {
   "cell_type": "code",
   "execution_count": 33,
   "metadata": {},
   "outputs": [
    {
     "name": "stdout",
     "output_type": "stream",
     "text": [
      "\n",
      "Resultado de la inferencia:\n",
      "+-------------+---------------+\n",
      "| Tennis      |   phi(Tennis) |\n",
      "+=============+===============+\n",
      "| Tennis(No)  |        0.4000 |\n",
      "+-------------+---------------+\n",
      "| Tennis(Yes) |        0.6000 |\n",
      "+-------------+---------------+\n"
     ]
    }
   ],
   "source": [
    "# Inferencia en la red bayesiana\n",
    "inferencia = VariableElimination(model_2)\n",
    "resultado = inferencia.query(variables=[tennis], evidence={outlook:'Rain'})\n",
    "print(\"\\nResultado de la inferencia:\")\n",
    "print(resultado)"
   ]
  },
  {
   "cell_type": "markdown",
   "metadata": {},
   "source": [
    "## Parte 2: Estimando distribuciones continuas.\n",
    "\n",
    "El objetivo de esta notebook es explorar una primera manera de aproximar $p(x|y)$ y $p(y|x)$ en un dataset tabular donde $x\\in\\mathbb{R}^k$ y el objetivo $y$ es una variable discreta y finita $y\\in\\{0,\\ldots,d\\}⊆\\mathbb{N}, d\\geq 1$."
   ]
  },
  {
   "cell_type": "markdown",
   "metadata": {},
   "source": [
    "### Imports"
   ]
  },
  {
   "cell_type": "code",
   "execution_count": 34,
   "metadata": {},
   "outputs": [],
   "source": [
    "import numpy as np\n",
    "import seaborn as sns\n",
    "\n",
    "from sklearn import datasets\n",
    "from matplotlib import pyplot as plt"
   ]
  },
  {
   "cell_type": "markdown",
   "metadata": {},
   "source": [
    "### Cargamos el dataset"
   ]
  },
  {
   "cell_type": "code",
   "execution_count": 35,
   "metadata": {},
   "outputs": [],
   "source": [
    "iris = datasets.load_iris()"
   ]
  },
  {
   "cell_type": "code",
   "execution_count": 36,
   "metadata": {},
   "outputs": [
    {
     "data": {
      "text/plain": [
       "array(['setosa', 'versicolor', 'virginica'], dtype='<U10')"
      ]
     },
     "execution_count": 36,
     "metadata": {},
     "output_type": "execute_result"
    }
   ],
   "source": [
    "iris.target_names"
   ]
  },
  {
   "cell_type": "code",
   "execution_count": 37,
   "metadata": {},
   "outputs": [],
   "source": [
    "X = iris.data\n",
    "y = iris.target"
   ]
  },
  {
   "cell_type": "code",
   "execution_count": 38,
   "metadata": {},
   "outputs": [
    {
     "data": {
      "application/vnd.microsoft.datawrangler.viewer.v0+json": {
       "columns": [
        {
         "name": "index",
         "rawType": "int64",
         "type": "integer"
        },
        {
         "name": "sepal length (cm)",
         "rawType": "float64",
         "type": "float"
        },
        {
         "name": "sepal width (cm)",
         "rawType": "float64",
         "type": "float"
        },
        {
         "name": "petal length (cm)",
         "rawType": "float64",
         "type": "float"
        },
        {
         "name": "petal width (cm)",
         "rawType": "float64",
         "type": "float"
        }
       ],
       "ref": "6990d0eb-4d1f-4354-a03d-1fcc59e170b7",
       "rows": [
        [
         "0",
         "5.1",
         "3.5",
         "1.4",
         "0.2"
        ],
        [
         "1",
         "4.9",
         "3.0",
         "1.4",
         "0.2"
        ],
        [
         "2",
         "4.7",
         "3.2",
         "1.3",
         "0.2"
        ],
        [
         "3",
         "4.6",
         "3.1",
         "1.5",
         "0.2"
        ],
        [
         "4",
         "5.0",
         "3.6",
         "1.4",
         "0.2"
        ],
        [
         "5",
         "5.4",
         "3.9",
         "1.7",
         "0.4"
        ],
        [
         "6",
         "4.6",
         "3.4",
         "1.4",
         "0.3"
        ],
        [
         "7",
         "5.0",
         "3.4",
         "1.5",
         "0.2"
        ],
        [
         "8",
         "4.4",
         "2.9",
         "1.4",
         "0.2"
        ],
        [
         "9",
         "4.9",
         "3.1",
         "1.5",
         "0.1"
        ],
        [
         "10",
         "5.4",
         "3.7",
         "1.5",
         "0.2"
        ],
        [
         "11",
         "4.8",
         "3.4",
         "1.6",
         "0.2"
        ],
        [
         "12",
         "4.8",
         "3.0",
         "1.4",
         "0.1"
        ],
        [
         "13",
         "4.3",
         "3.0",
         "1.1",
         "0.1"
        ],
        [
         "14",
         "5.8",
         "4.0",
         "1.2",
         "0.2"
        ],
        [
         "15",
         "5.7",
         "4.4",
         "1.5",
         "0.4"
        ],
        [
         "16",
         "5.4",
         "3.9",
         "1.3",
         "0.4"
        ],
        [
         "17",
         "5.1",
         "3.5",
         "1.4",
         "0.3"
        ],
        [
         "18",
         "5.7",
         "3.8",
         "1.7",
         "0.3"
        ],
        [
         "19",
         "5.1",
         "3.8",
         "1.5",
         "0.3"
        ],
        [
         "20",
         "5.4",
         "3.4",
         "1.7",
         "0.2"
        ],
        [
         "21",
         "5.1",
         "3.7",
         "1.5",
         "0.4"
        ],
        [
         "22",
         "4.6",
         "3.6",
         "1.0",
         "0.2"
        ],
        [
         "23",
         "5.1",
         "3.3",
         "1.7",
         "0.5"
        ],
        [
         "24",
         "4.8",
         "3.4",
         "1.9",
         "0.2"
        ],
        [
         "25",
         "5.0",
         "3.0",
         "1.6",
         "0.2"
        ],
        [
         "26",
         "5.0",
         "3.4",
         "1.6",
         "0.4"
        ],
        [
         "27",
         "5.2",
         "3.5",
         "1.5",
         "0.2"
        ],
        [
         "28",
         "5.2",
         "3.4",
         "1.4",
         "0.2"
        ],
        [
         "29",
         "4.7",
         "3.2",
         "1.6",
         "0.2"
        ],
        [
         "30",
         "4.8",
         "3.1",
         "1.6",
         "0.2"
        ],
        [
         "31",
         "5.4",
         "3.4",
         "1.5",
         "0.4"
        ],
        [
         "32",
         "5.2",
         "4.1",
         "1.5",
         "0.1"
        ],
        [
         "33",
         "5.5",
         "4.2",
         "1.4",
         "0.2"
        ],
        [
         "34",
         "4.9",
         "3.1",
         "1.5",
         "0.2"
        ],
        [
         "35",
         "5.0",
         "3.2",
         "1.2",
         "0.2"
        ],
        [
         "36",
         "5.5",
         "3.5",
         "1.3",
         "0.2"
        ],
        [
         "37",
         "4.9",
         "3.6",
         "1.4",
         "0.1"
        ],
        [
         "38",
         "4.4",
         "3.0",
         "1.3",
         "0.2"
        ],
        [
         "39",
         "5.1",
         "3.4",
         "1.5",
         "0.2"
        ],
        [
         "40",
         "5.0",
         "3.5",
         "1.3",
         "0.3"
        ],
        [
         "41",
         "4.5",
         "2.3",
         "1.3",
         "0.3"
        ],
        [
         "42",
         "4.4",
         "3.2",
         "1.3",
         "0.2"
        ],
        [
         "43",
         "5.0",
         "3.5",
         "1.6",
         "0.6"
        ],
        [
         "44",
         "5.1",
         "3.8",
         "1.9",
         "0.4"
        ],
        [
         "45",
         "4.8",
         "3.0",
         "1.4",
         "0.3"
        ],
        [
         "46",
         "5.1",
         "3.8",
         "1.6",
         "0.2"
        ],
        [
         "47",
         "4.6",
         "3.2",
         "1.4",
         "0.2"
        ],
        [
         "48",
         "5.3",
         "3.7",
         "1.5",
         "0.2"
        ],
        [
         "49",
         "5.0",
         "3.3",
         "1.4",
         "0.2"
        ]
       ],
       "shape": {
        "columns": 4,
        "rows": 150
       }
      },
      "text/html": [
       "<div>\n",
       "<style scoped>\n",
       "    .dataframe tbody tr th:only-of-type {\n",
       "        vertical-align: middle;\n",
       "    }\n",
       "\n",
       "    .dataframe tbody tr th {\n",
       "        vertical-align: top;\n",
       "    }\n",
       "\n",
       "    .dataframe thead th {\n",
       "        text-align: right;\n",
       "    }\n",
       "</style>\n",
       "<table border=\"1\" class=\"dataframe\">\n",
       "  <thead>\n",
       "    <tr style=\"text-align: right;\">\n",
       "      <th></th>\n",
       "      <th>sepal length (cm)</th>\n",
       "      <th>sepal width (cm)</th>\n",
       "      <th>petal length (cm)</th>\n",
       "      <th>petal width (cm)</th>\n",
       "    </tr>\n",
       "  </thead>\n",
       "  <tbody>\n",
       "    <tr>\n",
       "      <th>0</th>\n",
       "      <td>5.1</td>\n",
       "      <td>3.5</td>\n",
       "      <td>1.4</td>\n",
       "      <td>0.2</td>\n",
       "    </tr>\n",
       "    <tr>\n",
       "      <th>1</th>\n",
       "      <td>4.9</td>\n",
       "      <td>3.0</td>\n",
       "      <td>1.4</td>\n",
       "      <td>0.2</td>\n",
       "    </tr>\n",
       "    <tr>\n",
       "      <th>2</th>\n",
       "      <td>4.7</td>\n",
       "      <td>3.2</td>\n",
       "      <td>1.3</td>\n",
       "      <td>0.2</td>\n",
       "    </tr>\n",
       "    <tr>\n",
       "      <th>3</th>\n",
       "      <td>4.6</td>\n",
       "      <td>3.1</td>\n",
       "      <td>1.5</td>\n",
       "      <td>0.2</td>\n",
       "    </tr>\n",
       "    <tr>\n",
       "      <th>4</th>\n",
       "      <td>5.0</td>\n",
       "      <td>3.6</td>\n",
       "      <td>1.4</td>\n",
       "      <td>0.2</td>\n",
       "    </tr>\n",
       "    <tr>\n",
       "      <th>...</th>\n",
       "      <td>...</td>\n",
       "      <td>...</td>\n",
       "      <td>...</td>\n",
       "      <td>...</td>\n",
       "    </tr>\n",
       "    <tr>\n",
       "      <th>145</th>\n",
       "      <td>6.7</td>\n",
       "      <td>3.0</td>\n",
       "      <td>5.2</td>\n",
       "      <td>2.3</td>\n",
       "    </tr>\n",
       "    <tr>\n",
       "      <th>146</th>\n",
       "      <td>6.3</td>\n",
       "      <td>2.5</td>\n",
       "      <td>5.0</td>\n",
       "      <td>1.9</td>\n",
       "    </tr>\n",
       "    <tr>\n",
       "      <th>147</th>\n",
       "      <td>6.5</td>\n",
       "      <td>3.0</td>\n",
       "      <td>5.2</td>\n",
       "      <td>2.0</td>\n",
       "    </tr>\n",
       "    <tr>\n",
       "      <th>148</th>\n",
       "      <td>6.2</td>\n",
       "      <td>3.4</td>\n",
       "      <td>5.4</td>\n",
       "      <td>2.3</td>\n",
       "    </tr>\n",
       "    <tr>\n",
       "      <th>149</th>\n",
       "      <td>5.9</td>\n",
       "      <td>3.0</td>\n",
       "      <td>5.1</td>\n",
       "      <td>1.8</td>\n",
       "    </tr>\n",
       "  </tbody>\n",
       "</table>\n",
       "<p>150 rows × 4 columns</p>\n",
       "</div>"
      ],
      "text/plain": [
       "     sepal length (cm)  sepal width (cm)  petal length (cm)  petal width (cm)\n",
       "0                  5.1               3.5                1.4               0.2\n",
       "1                  4.9               3.0                1.4               0.2\n",
       "2                  4.7               3.2                1.3               0.2\n",
       "3                  4.6               3.1                1.5               0.2\n",
       "4                  5.0               3.6                1.4               0.2\n",
       "..                 ...               ...                ...               ...\n",
       "145                6.7               3.0                5.2               2.3\n",
       "146                6.3               2.5                5.0               1.9\n",
       "147                6.5               3.0                5.2               2.0\n",
       "148                6.2               3.4                5.4               2.3\n",
       "149                5.9               3.0                5.1               1.8\n",
       "\n",
       "[150 rows x 4 columns]"
      ]
     },
     "execution_count": 38,
     "metadata": {},
     "output_type": "execute_result"
    }
   ],
   "source": [
    "iris_df = pd.DataFrame(data=X,\n",
    "             columns=iris.feature_names,\n",
    "             )\n",
    "\n",
    "iris_df"
   ]
  },
  {
   "cell_type": "markdown",
   "metadata": {},
   "source": [
    "Para simplificar el problema solo trabajaremos con una variable aleatoria.\n",
    "\n",
    "Filtramos el dataset por feature.\n",
    "\n",
    "feature_number puede ser 0, 1, 2, 3\n",
    "- 0 - sepal length (cm)\n",
    "- 1 - sepal width (cm)\n",
    "- 2 - petal length (cm)\n",
    "- 3 - petal width (cm)"
   ]
  },
  {
   "cell_type": "code",
   "execution_count": 39,
   "metadata": {},
   "outputs": [
    {
     "data": {
      "text/plain": [
       "array([5.1, 4.9, 4.7, 4.6, 5. , 5.4, 4.6, 5. , 4.4, 4.9, 5.4, 4.8, 4.8,\n",
       "       4.3, 5.8, 5.7, 5.4, 5.1, 5.7, 5.1, 5.4, 5.1, 4.6, 5.1, 4.8, 5. ,\n",
       "       5. , 5.2, 5.2, 4.7, 4.8, 5.4, 5.2, 5.5, 4.9, 5. , 5.5, 4.9, 4.4,\n",
       "       5.1, 5. , 4.5, 4.4, 5. , 5.1, 4.8, 5.1, 4.6, 5.3, 5. , 7. , 6.4,\n",
       "       6.9, 5.5, 6.5, 5.7, 6.3, 4.9, 6.6, 5.2, 5. , 5.9, 6. , 6.1, 5.6,\n",
       "       6.7, 5.6, 5.8, 6.2, 5.6, 5.9, 6.1, 6.3, 6.1, 6.4, 6.6, 6.8, 6.7,\n",
       "       6. , 5.7, 5.5, 5.5, 5.8, 6. , 5.4, 6. , 6.7, 6.3, 5.6, 5.5, 5.5,\n",
       "       6.1, 5.8, 5. , 5.6, 5.7, 5.7, 6.2, 5.1, 5.7, 6.3, 5.8, 7.1, 6.3,\n",
       "       6.5, 7.6, 4.9, 7.3, 6.7, 7.2, 6.5, 6.4, 6.8, 5.7, 5.8, 6.4, 6.5,\n",
       "       7.7, 7.7, 6. , 6.9, 5.6, 7.7, 6.3, 6.7, 7.2, 6.2, 6.1, 6.4, 7.2,\n",
       "       7.4, 7.9, 6.4, 6.3, 6.1, 7.7, 6.3, 6.4, 6. , 6.9, 6.7, 6.9, 5.8,\n",
       "       6.8, 6.7, 6.7, 6.3, 6.5, 6.2, 5.9])"
      ]
     },
     "execution_count": 39,
     "metadata": {},
     "output_type": "execute_result"
    }
   ],
   "source": [
    "feature_number = 0\n",
    "feature_name = iris.feature_names[feature_number]\n",
    "xfeature_original = X[:,feature_number]\n",
    "xfeature_original"
   ]
  },
  {
   "cell_type": "markdown",
   "metadata": {},
   "source": [
    "Como estamos trabajando con valores continuos, vamos a discretizarlos.\n",
    "\n",
    "Para ello, vamos a utilizar la funcion linspace de numpy, que nos permite dividir un rango en n partes iguales. https://numpy.org/doc/stable/reference/generated/numpy.linspace.html"
   ]
  },
  {
   "cell_type": "markdown",
   "metadata": {},
   "source": [
    "Hacemos el siguiente calculo para tener la cantidad de bins que deseamos ya que la librería siempre nos crea uno más."
   ]
  },
  {
   "cell_type": "code",
   "execution_count": 40,
   "metadata": {},
   "outputs": [
    {
     "data": {
      "text/plain": [
       "array([4.3 , 4.66, 5.02, 5.38, 5.74, 6.1 , 6.46, 6.82, 7.18, 7.54])"
      ]
     },
     "execution_count": 40,
     "metadata": {},
     "output_type": "execute_result"
    }
   ],
   "source": [
    "NBINS = 10\n",
    "bin_size = (np.max(xfeature_original) - np.min(xfeature_original)) / NBINS\n",
    "end = np.max(xfeature_original) - bin_size\n",
    "bins = np.linspace(start=np.min(xfeature_original), stop=end, num=NBINS)\n",
    "\n",
    "bins"
   ]
  },
  {
   "cell_type": "code",
   "execution_count": 41,
   "metadata": {},
   "outputs": [
    {
     "data": {
      "text/plain": [
       "array([ 3,  2,  2,  1,  2,  4,  1,  2,  1,  2,  4,  2,  2,  1,  5,  4,  4,\n",
       "        3,  4,  3,  4,  3,  1,  3,  2,  2,  2,  3,  3,  2,  2,  4,  3,  4,\n",
       "        2,  2,  4,  2,  1,  3,  2,  1,  1,  2,  3,  2,  3,  1,  3,  2,  8,\n",
       "        6,  8,  4,  7,  4,  6,  2,  7,  3,  2,  5,  5,  6,  4,  7,  4,  5,\n",
       "        6,  4,  5,  6,  6,  6,  6,  7,  7,  7,  5,  4,  4,  4,  5,  5,  4,\n",
       "        5,  7,  6,  4,  4,  4,  6,  5,  2,  4,  4,  4,  6,  3,  4,  6,  5,\n",
       "        8,  6,  7, 10,  2,  9,  7,  9,  7,  6,  7,  4,  5,  6,  7, 10, 10,\n",
       "        5,  8,  4, 10,  6,  7,  9,  6,  6,  6,  9,  9, 10,  6,  6,  6, 10,\n",
       "        6,  6,  5,  8,  7,  8,  5,  7,  7,  7,  6,  7,  6,  5])"
      ]
     },
     "execution_count": 41,
     "metadata": {},
     "output_type": "execute_result"
    }
   ],
   "source": [
    "xfeature_digitized = np.digitize(x=xfeature_original, bins=bins)\n",
    "xfeature_digitized"
   ]
  },
  {
   "cell_type": "markdown",
   "metadata": {},
   "source": [
    "### Aproximamos $p(x|y)$\n",
    "\n",
    "Para calcular la distribución $p (x | y)$ usamos *distplot kde* (Kernel Density Estimation) para cada clase con los datos originales (datos continuos y no los discretizados)."
   ]
  },
  {
   "cell_type": "markdown",
   "metadata": {},
   "source": [
    "Para este paso aprovechamos que el dataset esta ordenado por clase."
   ]
  },
  {
   "cell_type": "code",
   "execution_count": 42,
   "metadata": {},
   "outputs": [
    {
     "data": {
      "image/png": "[encoded data removed]",
      "text/plain": [
       "<Figure size 617.75x500 with 1 Axes>"
      ]
     },
     "metadata": {},
     "output_type": "display_data"
    }
   ],
   "source": [
    "pd_cats = pd.DataFrame(xfeature_original.flatten(), columns=['x'])\n",
    "pd_cats['cat'] = np.concatenate((np.full(50, 'setosa'),\n",
    "                                np.full(50, 'versicolor'),\n",
    "                                np.full(50, 'virginica')))\n",
    "sns.displot(\n",
    "    data=pd_cats, x='x', kind='kde',\n",
    "    hue='cat', fill=True\n",
    ")\n",
    "\n",
    "plt.title('p(x | y)')\n",
    "plt.show()"
   ]
  },
  {
   "cell_type": "markdown",
   "metadata": {},
   "source": [
    "¿Qué nos muestra esta gráfica?\n",
    "\n",
    "    La gráfica nos muestra que los datos se distribuyen normalmente segun el largo del sepalo. Para cada variedad de flor.\n",
    "\n",
    "¿Qué conclusiones puede sacar?\n",
    "\n",
    "    Se puede visualizar que las flores de clase \"setosa\" son las que  tienen en promedio un largo de sepalo menor, seguidas de las \"versicolor\", y las \"virginica\" son las que presentan un largo de sepalo mayor. "
   ]
  },
  {
   "cell_type": "markdown",
   "metadata": {},
   "source": [
    "Ejercicio: Grafique un histograma para cada clase que nos muestre $p (bin| y = clase)$ utilizando los datos discretizados. Puede utilizar la función *np.histogram*. https://numpy.org/doc/stable/reference/generated/numpy.histogram.html\n",
    "\n",
    "Luego compare los histogramas con la gráfica de arriba sobre $p (x | y)$."
   ]
  },
  {
   "cell_type": "code",
   "execution_count": 43,
   "metadata": {},
   "outputs": [
    {
     "data": {
      "text/plain": [
       "array([ 3,  2,  2,  1,  2,  4,  1,  2,  1,  2,  4,  2,  2,  1,  5,  4,  4,\n",
       "        3,  4,  3,  4,  3,  1,  3,  2,  2,  2,  3,  3,  2,  2,  4,  3,  4,\n",
       "        2,  2,  4,  2,  1,  3,  2,  1,  1,  2,  3,  2,  3,  1,  3,  2,  8,\n",
       "        6,  8,  4,  7,  4,  6,  2,  7,  3,  2,  5,  5,  6,  4,  7,  4,  5,\n",
       "        6,  4,  5,  6,  6,  6,  6,  7,  7,  7,  5,  4,  4,  4,  5,  5,  4,\n",
       "        5,  7,  6,  4,  4,  4,  6,  5,  2,  4,  4,  4,  6,  3,  4,  6,  5,\n",
       "        8,  6,  7, 10,  2,  9,  7,  9,  7,  6,  7,  4,  5,  6,  7, 10, 10,\n",
       "        5,  8,  4, 10,  6,  7,  9,  6,  6,  6,  9,  9, 10,  6,  6,  6, 10,\n",
       "        6,  6,  5,  8,  7,  8,  5,  7,  7,  7,  6,  7,  6,  5])"
      ]
     },
     "execution_count": 43,
     "metadata": {},
     "output_type": "execute_result"
    }
   ],
   "source": [
    "xfeature_digitized"
   ]
  },
  {
   "cell_type": "code",
   "execution_count": 44,
   "metadata": {},
   "outputs": [
    {
     "data": {
      "image/png": "[encoded data removed]",
      "text/plain": [
       "<Figure size 640x480 with 1 Axes>"
      ]
     },
     "metadata": {},
     "output_type": "display_data"
    }
   ],
   "source": [
    "plt.hist(xfeature_digitized[np.where(pd_cats['cat']=='setosa')], bins=[0,1,2,3,4,5,6,7,8,9,10], alpha=0.5, label='setosa')\n",
    "plt.show()"
   ]
  },
  {
   "cell_type": "code",
   "execution_count": 45,
   "metadata": {},
   "outputs": [
    {
     "data": {
      "image/png": "[encoded data removed]",
      "text/plain": [
       "<Figure size 640x480 with 1 Axes>"
      ]
     },
     "metadata": {},
     "output_type": "display_data"
    }
   ],
   "source": [
    "plt.hist(xfeature_digitized[np.where(pd_cats['cat']=='versicolor')], bins=[0,1,2,3,4,5,6,7,8,9,10], alpha=0.5, label='versicolor',color='red')\n",
    "plt.show()"
   ]
  },
  {
   "cell_type": "code",
   "execution_count": 46,
   "metadata": {},
   "outputs": [
    {
     "data": {
      "image/png": "[encoded data removed]",
      "text/plain": [
       "<Figure size 640x480 with 1 Axes>"
      ]
     },
     "metadata": {},
     "output_type": "display_data"
    }
   ],
   "source": [
    "plt.hist(xfeature_digitized[np.where(pd_cats['cat']=='virginica')], bins=[0,1,2,3,4,5,6,7,8,9,10], alpha=0.5, label='virginica',color='blue')\n",
    "plt.show()"
   ]
  },
  {
   "cell_type": "code",
   "execution_count": 47,
   "metadata": {},
   "outputs": [
    {
     "data": {
      "image/png": "[encoded data removed]",
      "text/plain": [
       "<Figure size 800x500 with 1 Axes>"
      ]
     },
     "metadata": {},
     "output_type": "display_data"
    },
    {
     "data": {
      "image/png": "[encoded data removed]",
      "text/plain": [
       "<Figure size 617.75x500 with 1 Axes>"
      ]
     },
     "metadata": {},
     "output_type": "display_data"
    }
   ],
   "source": [
    "plt.figure(figsize=(8, 5))\n",
    "plt.hist(xfeature_digitized[np.where(pd_cats['cat']=='setosa')], bins=np.arange(NBINS+1), alpha=0.5, label='setosa')\n",
    "plt.hist(xfeature_digitized[np.where(pd_cats['cat']=='versicolor')], bins=np.arange(NBINS+1), alpha=0.5, label='versicolor', color='red')\n",
    "plt.hist(xfeature_digitized[np.where(pd_cats['cat']=='virginica')], bins=np.arange(NBINS+1), alpha=0.5, label='virginica', color='blue')\n",
    "plt.xlabel('Bin')\n",
    "plt.ylabel('Cantidad')\n",
    "plt.legend()\n",
    "plt.title('Histograma de bins por clase')\n",
    "\n",
    "# Gráfico de KDE al costado\n",
    "sns.displot(\n",
    "    data=pd_cats, x='x', kind='kde',\n",
    "    hue='cat', fill=True\n",
    ")\n",
    "plt.title('p(x | y)')\n",
    "plt.show()"
   ]
  },
  {
   "cell_type": "markdown",
   "metadata": {},
   "source": [
    "Observamos al comparar los gráficos que la conclusión comentada anteriormente se mantiene, las setosas son las que tienen en promedio un menor largo de sepalo seguidas por las versicolor."
   ]
  },
  {
   "cell_type": "markdown",
   "metadata": {},
   "source": [
    "### Aproximamos $p(y|x)$\n",
    "\n",
    "Estime la probabilidad condicional de *y* dado *x* y luego muestree 10 valores de y dado que $x = 4.75$"
   ]
  },
  {
   "cell_type": "code",
   "execution_count": 48,
   "metadata": {},
   "outputs": [
    {
     "data": {
      "application/vnd.microsoft.datawrangler.viewer.v0+json": {
       "columns": [
        {
         "name": "index",
         "rawType": "int64",
         "type": "integer"
        },
        {
         "name": "x",
         "rawType": "float64",
         "type": "float"
        },
        {
         "name": "cat",
         "rawType": "object",
         "type": "string"
        }
       ],
       "ref": "d2e475ef-b411-4455-9176-020c9b93572e",
       "rows": [
        [
         "0",
         "5.1",
         "setosa"
        ],
        [
         "1",
         "4.9",
         "setosa"
        ],
        [
         "2",
         "4.7",
         "setosa"
        ],
        [
         "3",
         "4.6",
         "setosa"
        ],
        [
         "4",
         "5.0",
         "setosa"
        ],
        [
         "5",
         "5.4",
         "setosa"
        ],
        [
         "6",
         "4.6",
         "setosa"
        ],
        [
         "7",
         "5.0",
         "setosa"
        ],
        [
         "8",
         "4.4",
         "setosa"
        ],
        [
         "9",
         "4.9",
         "setosa"
        ],
        [
         "10",
         "5.4",
         "setosa"
        ],
        [
         "11",
         "4.8",
         "setosa"
        ],
        [
         "12",
         "4.8",
         "setosa"
        ],
        [
         "13",
         "4.3",
         "setosa"
        ],
        [
         "14",
         "5.8",
         "setosa"
        ],
        [
         "15",
         "5.7",
         "setosa"
        ],
        [
         "16",
         "5.4",
         "setosa"
        ],
        [
         "17",
         "5.1",
         "setosa"
        ],
        [
         "18",
         "5.7",
         "setosa"
        ],
        [
         "19",
         "5.1",
         "setosa"
        ],
        [
         "20",
         "5.4",
         "setosa"
        ],
        [
         "21",
         "5.1",
         "setosa"
        ],
        [
         "22",
         "4.6",
         "setosa"
        ],
        [
         "23",
         "5.1",
         "setosa"
        ],
        [
         "24",
         "4.8",
         "setosa"
        ],
        [
         "25",
         "5.0",
         "setosa"
        ],
        [
         "26",
         "5.0",
         "setosa"
        ],
        [
         "27",
         "5.2",
         "setosa"
        ],
        [
         "28",
         "5.2",
         "setosa"
        ],
        [
         "29",
         "4.7",
         "setosa"
        ],
        [
         "30",
         "4.8",
         "setosa"
        ],
        [
         "31",
         "5.4",
         "setosa"
        ],
        [
         "32",
         "5.2",
         "setosa"
        ],
        [
         "33",
         "5.5",
         "setosa"
        ],
        [
         "34",
         "4.9",
         "setosa"
        ],
        [
         "35",
         "5.0",
         "setosa"
        ],
        [
         "36",
         "5.5",
         "setosa"
        ],
        [
         "37",
         "4.9",
         "setosa"
        ],
        [
         "38",
         "4.4",
         "setosa"
        ],
        [
         "39",
         "5.1",
         "setosa"
        ],
        [
         "40",
         "5.0",
         "setosa"
        ],
        [
         "41",
         "4.5",
         "setosa"
        ],
        [
         "42",
         "4.4",
         "setosa"
        ],
        [
         "43",
         "5.0",
         "setosa"
        ],
        [
         "44",
         "5.1",
         "setosa"
        ],
        [
         "45",
         "4.8",
         "setosa"
        ],
        [
         "46",
         "5.1",
         "setosa"
        ],
        [
         "47",
         "4.6",
         "setosa"
        ],
        [
         "48",
         "5.3",
         "setosa"
        ],
        [
         "49",
         "5.0",
         "setosa"
        ]
       ],
       "shape": {
        "columns": 2,
        "rows": 150
       }
      },
      "text/html": [
       "<div>\n",
       "<style scoped>\n",
       "    .dataframe tbody tr th:only-of-type {\n",
       "        vertical-align: middle;\n",
       "    }\n",
       "\n",
       "    .dataframe tbody tr th {\n",
       "        vertical-align: top;\n",
       "    }\n",
       "\n",
       "    .dataframe thead th {\n",
       "        text-align: right;\n",
       "    }\n",
       "</style>\n",
       "<table border=\"1\" class=\"dataframe\">\n",
       "  <thead>\n",
       "    <tr style=\"text-align: right;\">\n",
       "      <th></th>\n",
       "      <th>x</th>\n",
       "      <th>cat</th>\n",
       "    </tr>\n",
       "  </thead>\n",
       "  <tbody>\n",
       "    <tr>\n",
       "      <th>0</th>\n",
       "      <td>5.1</td>\n",
       "      <td>setosa</td>\n",
       "    </tr>\n",
       "    <tr>\n",
       "      <th>1</th>\n",
       "      <td>4.9</td>\n",
       "      <td>setosa</td>\n",
       "    </tr>\n",
       "    <tr>\n",
       "      <th>2</th>\n",
       "      <td>4.7</td>\n",
       "      <td>setosa</td>\n",
       "    </tr>\n",
       "    <tr>\n",
       "      <th>3</th>\n",
       "      <td>4.6</td>\n",
       "      <td>setosa</td>\n",
       "    </tr>\n",
       "    <tr>\n",
       "      <th>4</th>\n",
       "      <td>5.0</td>\n",
       "      <td>setosa</td>\n",
       "    </tr>\n",
       "    <tr>\n",
       "      <th>...</th>\n",
       "      <td>...</td>\n",
       "      <td>...</td>\n",
       "    </tr>\n",
       "    <tr>\n",
       "      <th>145</th>\n",
       "      <td>6.7</td>\n",
       "      <td>virginica</td>\n",
       "    </tr>\n",
       "    <tr>\n",
       "      <th>146</th>\n",
       "      <td>6.3</td>\n",
       "      <td>virginica</td>\n",
       "    </tr>\n",
       "    <tr>\n",
       "      <th>147</th>\n",
       "      <td>6.5</td>\n",
       "      <td>virginica</td>\n",
       "    </tr>\n",
       "    <tr>\n",
       "      <th>148</th>\n",
       "      <td>6.2</td>\n",
       "      <td>virginica</td>\n",
       "    </tr>\n",
       "    <tr>\n",
       "      <th>149</th>\n",
       "      <td>5.9</td>\n",
       "      <td>virginica</td>\n",
       "    </tr>\n",
       "  </tbody>\n",
       "</table>\n",
       "<p>150 rows × 2 columns</p>\n",
       "</div>"
      ],
      "text/plain": [
       "       x        cat\n",
       "0    5.1     setosa\n",
       "1    4.9     setosa\n",
       "2    4.7     setosa\n",
       "3    4.6     setosa\n",
       "4    5.0     setosa\n",
       "..   ...        ...\n",
       "145  6.7  virginica\n",
       "146  6.3  virginica\n",
       "147  6.5  virginica\n",
       "148  6.2  virginica\n",
       "149  5.9  virginica\n",
       "\n",
       "[150 rows x 2 columns]"
      ]
     },
     "execution_count": 48,
     "metadata": {},
     "output_type": "execute_result"
    }
   ],
   "source": [
    "pd_cats"
   ]
  },
  {
   "cell_type": "code",
   "execution_count": 49,
   "metadata": {},
   "outputs": [
    {
     "data": {
      "text/plain": [
       "array([5.1, 4.9, 4.7, 4.6, 5. , 5.4, 4.6, 5. , 4.4, 4.9, 5.4, 4.8, 4.8,\n",
       "       4.3, 5.8, 5.7, 5.4, 5.1, 5.7, 5.1, 5.4, 5.1, 4.6, 5.1, 4.8, 5. ,\n",
       "       5. , 5.2, 5.2, 4.7, 4.8, 5.4, 5.2, 5.5, 4.9, 5. , 5.5, 4.9, 4.4,\n",
       "       5.1, 5. , 4.5, 4.4, 5. , 5.1, 4.8, 5.1, 4.6, 5.3, 5. , 7. , 6.4,\n",
       "       6.9, 5.5, 6.5, 5.7, 6.3, 4.9, 6.6, 5.2, 5. , 5.9, 6. , 6.1, 5.6,\n",
       "       6.7, 5.6, 5.8, 6.2, 5.6, 5.9, 6.1, 6.3, 6.1, 6.4, 6.6, 6.8, 6.7,\n",
       "       6. , 5.7, 5.5, 5.5, 5.8, 6. , 5.4, 6. , 6.7, 6.3, 5.6, 5.5, 5.5,\n",
       "       6.1, 5.8, 5. , 5.6, 5.7, 5.7, 6.2, 5.1, 5.7, 6.3, 5.8, 7.1, 6.3,\n",
       "       6.5, 7.6, 4.9, 7.3, 6.7, 7.2, 6.5, 6.4, 6.8, 5.7, 5.8, 6.4, 6.5,\n",
       "       7.7, 7.7, 6. , 6.9, 5.6, 7.7, 6.3, 6.7, 7.2, 6.2, 6.1, 6.4, 7.2,\n",
       "       7.4, 7.9, 6.4, 6.3, 6.1, 7.7, 6.3, 6.4, 6. , 6.9, 6.7, 6.9, 5.8,\n",
       "       6.8, 6.7, 6.7, 6.3, 6.5, 6.2, 5.9])"
      ]
     },
     "execution_count": 49,
     "metadata": {},
     "output_type": "execute_result"
    }
   ],
   "source": [
    "xfeature_original"
   ]
  },
  {
   "cell_type": "code",
   "execution_count": 50,
   "metadata": {},
   "outputs": [
    {
     "data": {
      "text/plain": [
       "array([0, 0, 0, 0, 0, 0, 0, 0, 0, 0, 0, 0, 0, 0, 0, 0, 0, 0, 0, 0, 0, 0,\n",
       "       0, 0, 0, 0, 0, 0, 0, 0, 0, 0, 0, 0, 0, 0, 0, 0, 0, 0, 0, 0, 0, 0,\n",
       "       0, 0, 0, 0, 0, 0, 1, 1, 1, 1, 1, 1, 1, 1, 1, 1, 1, 1, 1, 1, 1, 1,\n",
       "       1, 1, 1, 1, 1, 1, 1, 1, 1, 1, 1, 1, 1, 1, 1, 1, 1, 1, 1, 1, 1, 1,\n",
       "       1, 1, 1, 1, 1, 1, 1, 1, 1, 1, 1, 1, 2, 2, 2, 2, 2, 2, 2, 2, 2, 2,\n",
       "       2, 2, 2, 2, 2, 2, 2, 2, 2, 2, 2, 2, 2, 2, 2, 2, 2, 2, 2, 2, 2, 2,\n",
       "       2, 2, 2, 2, 2, 2, 2, 2, 2, 2, 2, 2, 2, 2, 2, 2, 2, 2])"
      ]
     },
     "execution_count": 50,
     "metadata": {},
     "output_type": "execute_result"
    }
   ],
   "source": [
    "y"
   ]
  },
  {
   "cell_type": "code",
   "execution_count": 51,
   "metadata": {},
   "outputs": [],
   "source": [
    "from scipy.stats import gaussian_kde"
   ]
  },
  {
   "cell_type": "code",
   "execution_count": 52,
   "metadata": {},
   "outputs": [],
   "source": [
    "classes = [0, 1, 2]\n",
    "class_names = iris.target_names\n",
    "features_by_class = [\n",
    "    xfeature_original[y == c] for c in classes\n",
    "]\n",
    "kdes = [gaussian_kde(feat) for feat in features_by_class]"
   ]
  },
  {
   "cell_type": "code",
   "execution_count": 53,
   "metadata": {},
   "outputs": [],
   "source": [
    "# 2. Calcular p(y) como frecuencia relativa\n",
    "py = np.array([np.mean(y == c) for c in classes])"
   ]
  },
  {
   "cell_type": "code",
   "execution_count": 54,
   "metadata": {},
   "outputs": [
    {
     "name": "stdout",
     "output_type": "stream",
     "text": [
      "p(y=setosa | x=4.75) = 0.8761\n",
      "p(y=versicolor | x=4.75) = 0.0960\n",
      "p(y=virginica | x=4.75) = 0.0278\n",
      "\n",
      "Muestra de 10 valores de y dado x=4.75:\n",
      "['setosa' 'setosa' 'setosa' 'setosa' 'versicolor' 'setosa' 'setosa'\n",
      " 'setosa' 'setosa' 'setosa']\n"
     ]
    }
   ],
   "source": [
    "# 3. Evaluar p(x=4.75|y) para cada clase\n",
    "x_value = 4.75\n",
    "px_given_y = np.array([kde.evaluate(x_value)[0] for kde in kdes])\n",
    "\n",
    "# 4. Multiplicar por p(y) y normalizar\n",
    "unnormalized = px_given_y * py\n",
    "py_given_x = unnormalized / np.sum(unnormalized)\n",
    "\n",
    "# 5. Mostrar las probabilidades\n",
    "for i, prob in enumerate(py_given_x):\n",
    "    print(f\"p(y={class_names[i]} | x={x_value:.2f}) = {prob:.4f}\")\n",
    "\n",
    "# 6. Muestrear 10 valores de y según la distribución obtenida\n",
    "samples = np.random.choice(class_names, size=10, p=py_given_x)\n",
    "print(\"\\nMuestra de 10 valores de y dado x=4.75:\")\n",
    "print(samples)\n"
   ]
  },
  {
   "cell_type": "markdown",
   "metadata": {},
   "source": [
    "### Sampleamos sobre *p(x|y)*\n",
    "\n",
    "Realice una muestra de 50 valores de $x$ para cada valor de $y$. Recomendamos utilizar la función *gaussian_kde* de *scipy.stats*."
   ]
  },
  {
   "cell_type": "code",
   "execution_count": 64,
   "metadata": {},
   "outputs": [],
   "source": [
    "from scipy.stats import gaussian_kde\n",
    "muestras = [kde.resample(size=50) for kde in kdes]"
   ]
  },
  {
   "cell_type": "code",
   "execution_count": 56,
   "metadata": {},
   "outputs": [
    {
     "data": {
      "text/plain": [
       "[array([[4.86007504, 5.4271016 , 4.96749229, 5.20771893, 4.70221183,\n",
       "         5.29979376, 5.13946679, 4.80555543, 4.62135417, 4.7692927 ,\n",
       "         5.04861914, 4.8020904 , 5.25567706, 5.23737333, 5.36305894,\n",
       "         5.66673701, 4.79301013, 4.60787123, 4.61198857, 4.6063186 ,\n",
       "         4.94142278, 4.80213369, 4.94100026, 5.02459882, 5.18006878,\n",
       "         4.96564928, 4.88811538, 4.66041227, 4.89540182, 5.78075869,\n",
       "         4.73074621, 4.39185226, 5.58284804, 5.20583363, 5.90697783,\n",
       "         5.18505333, 4.43695605, 4.44849436, 4.60035213, 5.01720861,\n",
       "         5.9272194 , 5.2451963 , 4.86486295, 5.23008844, 4.44829341,\n",
       "         4.93859112, 5.20241811, 5.4532157 , 5.12421138, 4.30725621]]),\n",
       " array([[5.35355676, 5.4136816 , 5.46143634, 6.02428782, 6.88010046,\n",
       "         5.07484097, 7.10315299, 5.38165782, 5.78925278, 5.29708807,\n",
       "         6.91088949, 5.1474894 , 4.86585716, 5.57347421, 5.99770047,\n",
       "         6.82026728, 6.07534161, 7.13831926, 4.73617526, 5.81533699,\n",
       "         5.76750141, 5.03788781, 5.03840181, 5.74851041, 7.08205881,\n",
       "         5.377965  , 6.03540214, 6.88242564, 5.62862517, 5.05230482,\n",
       "         5.60243444, 6.82898177, 6.61623065, 6.52894158, 5.52090455,\n",
       "         5.84401658, 4.87774581, 5.98065328, 6.13182618, 6.40400518,\n",
       "         4.96604468, 6.07246705, 5.89137221, 7.07247158, 6.00673425,\n",
       "         6.41609256, 5.85885189, 5.74870725, 6.07490762, 6.60459943]]),\n",
       " array([[6.59640692, 7.98159572, 6.30366763, 6.52015163, 6.41323453,\n",
       "         6.22624098, 6.34005596, 7.06442337, 6.69588377, 7.06989306,\n",
       "         5.66532789, 6.35962955, 6.91347655, 6.02170955, 6.96489705,\n",
       "         6.61943304, 7.06132963, 6.30151234, 6.84503412, 6.30189965,\n",
       "         7.19112685, 6.38469315, 6.08821971, 6.25024402, 6.16723561,\n",
       "         6.31342466, 7.88140865, 6.39298059, 7.02132581, 5.85176386,\n",
       "         6.79384112, 5.51529412, 6.06840037, 7.30393915, 6.29087323,\n",
       "         6.56248197, 6.79978539, 6.38871583, 6.20846328, 7.12939468,\n",
       "         6.10336668, 6.29967869, 6.68999025, 7.44812309, 7.12767621,\n",
       "         6.43497553, 6.57502354, 7.8748409 , 6.43192501, 6.14654644]])]"
      ]
     },
     "execution_count": 56,
     "metadata": {},
     "output_type": "execute_result"
    }
   ],
   "source": [
    "muestras"
   ]
  },
  {
   "cell_type": "markdown",
   "metadata": {},
   "source": [
    "Grafique $p(x|y)$ utilizando los datos sampleados y compare con la gráfica de $p(x|y)$ creada con los datos originales."
   ]
  },
  {
   "cell_type": "code",
   "execution_count": 65,
   "metadata": {
    "vscode": {
     "languageId": "javascript"
    }
   },
   "outputs": [
    {
     "name": "stderr",
     "output_type": "stream",
     "text": [
      "C:\\Users\\joaco\\AppData\\Local\\Temp\\ipykernel_23336\\2890331181.py:12: UserWarning: No artists with labels found to put in legend.  Note that artists whose label start with an underscore are ignored when legend() is called with no argument.\n",
      "  plt.legend()\n"
     ]
    },
    {
     "data": {
      "text/plain": [
       "<Figure size 800x500 with 0 Axes>"
      ]
     },
     "metadata": {},
     "output_type": "display_data"
    },
    {
     "data": {
      "image/png": "[encoded data removed]",
      "text/plain": [
       "<Figure size 617.75x500 with 1 Axes>"
      ]
     },
     "metadata": {},
     "output_type": "display_data"
    }
   ],
   "source": [
    "plt.figure(figsize=(8, 5))\n",
    "sample_df = pd.DataFrame({\n",
    "    'x': np.concatenate([sample.flatten() for sample in muestras]),\n",
    "    'cat': np.repeat(class_names, [sample.size for sample in muestras])\n",
    "})\n",
    "sns.displot(\n",
    "    data=sample_df, x='x', kind='kde',\n",
    "    hue='cat', fill=True\n",
    ")\n",
    "plt.xlabel('sepal length (cm)')\n",
    "plt.ylabel('Densidad')\n",
    "plt.legend()\n",
    "plt.title('Aproximación de p(x|y) usando muestras de KDE')\n",
    "plt.show()"
   ]
  },
  {
   "cell_type": "markdown",
   "metadata": {},
   "source": [
    "### Aproximamos la distribución normal de $p(x|y)$"
   ]
  },
  {
   "cell_type": "code",
   "execution_count": 58,
   "metadata": {},
   "outputs": [],
   "source": [
    "# Separamos los datos de cada clase\n",
    "setosa_feature = xfeature_original[:50]\n",
    "versicolor_feature = xfeature_original[51:100]\n",
    "virginica_feature = xfeature_original[101:150]"
   ]
  },
  {
   "cell_type": "markdown",
   "metadata": {},
   "source": [
    "Calcule la media y la desviación estándar para cada valor de $y$."
   ]
  },
  {
   "cell_type": "code",
   "execution_count": 66,
   "metadata": {},
   "outputs": [
    {
     "name": "stdout",
     "output_type": "stream",
     "text": [
      "Media Setosa: 5.006\n",
      "Media Versicolor: 5.914285714285715\n",
      "Media Virginica: 6.593877551020409\n",
      "Desviación Estándar Setosa: 0.3489469873777391\n",
      "Desviación Estándar Versicolor: 0.4928053803045812\n",
      "Desviación Estándar Virginica: 0.634519957797217\n"
     ]
    }
   ],
   "source": [
    "media_setosa = np.mean(setosa_feature)\n",
    "media_versicolor = np.mean(versicolor_feature)\n",
    "media_virginica = np.mean(virginica_feature)\n",
    "\n",
    "desv_estandar_setosa = np.std(setosa_feature)\n",
    "desv_estandar_versicolor = np.std(versicolor_feature)\n",
    "desv_estandar_virginica = np.std(virginica_feature)\n",
    "\n",
    "print(f'Media Setosa: {media_setosa}')\n",
    "print(f'Media Versicolor: {media_versicolor}')\n",
    "print(f'Media Virginica: {media_virginica}')\n",
    "\n",
    "print(f'Desviación Estándar Setosa: {desv_estandar_setosa}')\n",
    "print(f'Desviación Estándar Versicolor: {desv_estandar_versicolor}')\n",
    "print(f'Desviación Estándar Virginica: {desv_estandar_virginica}')"
   ]
  },
  {
   "cell_type": "markdown",
   "metadata": {},
   "source": [
    "Utilice la función *normal* de *np.random* para realizar una muestra sobre cada distribución normal."
   ]
  },
  {
   "cell_type": "code",
   "execution_count": 69,
   "metadata": {},
   "outputs": [],
   "source": [
    "# Muestra de 50 valores de x para cada clase usando la distribución normal estimada\n",
    "np.random.seed(42)  # Para reproducibilidad"
   ]
  },
  {
   "cell_type": "code",
   "execution_count": 68,
   "metadata": {},
   "outputs": [],
   "source": [
    "setosa_samples = np.random.normal(loc=media_setosa, scale=desv_estandar_setosa, size=50)\n",
    "versicolor_samples = np.random.normal(loc=media_versicolor, scale=desv_estandar_versicolor, size=50)\n",
    "virginica_samples = np.random.normal(loc=media_virginica, scale=desv_estandar_virginica, size=50)"
   ]
  },
  {
   "cell_type": "code",
   "execution_count": 70,
   "metadata": {},
   "outputs": [
    {
     "data": {
      "image/png": "[encoded data removed]",
      "text/plain": [
       "<Figure size 800x500 with 1 Axes>"
      ]
     },
     "metadata": {},
     "output_type": "display_data"
    }
   ],
   "source": [
    "# Crear eje x para graficar\n",
    "x = np.linspace(4, 8, 300)\n",
    "\n",
    "# Distribuciones normales para cada clase\n",
    "pdf_setosa = norm.pdf(x, loc=media_setosa, scale=desv_estandar_setosa)\n",
    "pdf_versicolor = norm.pdf(x, loc=media_versicolor, scale=desv_estandar_versicolor)\n",
    "pdf_virginica = norm.pdf(x, loc=media_virginica, scale=desv_estandar_virginica)\n",
    "\n",
    "plt.figure(figsize=(8, 5))\n",
    "plt.plot(x, pdf_setosa, label='Setosa')\n",
    "plt.plot(x, pdf_versicolor, label='Versicolor', color='red')\n",
    "plt.plot(x, pdf_virginica, label='Virginica', color='blue')\n",
    "plt.xlabel('sepal length (cm)')\n",
    "plt.ylabel('Densidad')\n",
    "plt.title('Distribuciones normales p(x|y) por clase')\n",
    "plt.legend()\n",
    "plt.show()"
   ]
  },
  {
   "cell_type": "markdown",
   "metadata": {},
   "source": [
    "Compare esta gráfica con la gráfica de *p(x|y)* original."
   ]
  },
  {
   "cell_type": "markdown",
   "metadata": {},
   "source": [
    "### Graficamos la mezcla de Gaussianas."
   ]
  },
  {
   "cell_type": "markdown",
   "metadata": {},
   "source": [
    "Grafique la mezcla de Gaussianas."
   ]
  },
  {
   "cell_type": "code",
   "execution_count": 71,
   "metadata": {},
   "outputs": [
    {
     "data": {
      "image/png": "[encoded data removed]",
      "text/plain": [
       "<Figure size 800x500 with 1 Axes>"
      ]
     },
     "metadata": {},
     "output_type": "display_data"
    }
   ],
   "source": [
    "# Mezcla de Gaussianas: p(x) = sum_k p(x|y=k) * p(y=k)\n",
    "mixture_pdf = pdf_setosa * py[0] + pdf_versicolor * py[1] + pdf_virginica * py[2]\n",
    "\n",
    "plt.figure(figsize=(8, 5))\n",
    "plt.plot(x, mixture_pdf, label='Mezcla de Gaussianas', color='purple')\n",
    "plt.xlabel('sepal length (cm)')\n",
    "plt.ylabel('Densidad')\n",
    "plt.title('Mezcla de Gaussianas p(x)')\n",
    "plt.legend()\n",
    "plt.show()"
   ]
  },
  {
   "cell_type": "markdown",
   "metadata": {},
   "source": [
    "Compare esta gráfica con la gráfica de *p(x|y)* usando distribuciones normales."
   ]
  },
  {
   "cell_type": "markdown",
   "metadata": {},
   "source": [
    "### Opcional: Aproxime $p(y|x)$ y realice una muestra de 10 valores de $y$ con $x = 4.75$"
   ]
  },
  {
   "cell_type": "code",
   "execution_count": 72,
   "metadata": {},
   "outputs": [
    {
     "name": "stdout",
     "output_type": "stream",
     "text": [
      "p(y=setosa | x=4.75) = 0.8761\n",
      "p(y=versicolor | x=4.75) = 0.0960\n",
      "p(y=virginica | x=4.75) = 0.0278\n",
      "\n",
      "Muestra de 10 valores de y dado x=4.75:\n",
      "['setosa' 'versicolor' 'setosa' 'setosa' 'setosa' 'setosa' 'setosa'\n",
      " 'setosa' 'setosa' 'setosa']\n"
     ]
    }
   ],
   "source": [
    "x_value = 4.75\n",
    "px_given_y = np.array([kde.evaluate(x_value)[0] for kde in kdes])\n",
    "\n",
    "# 4. Multiplicar por p(y) y normalizar\n",
    "unnormalized = px_given_y * py\n",
    "py_given_x = unnormalized / np.sum(unnormalized)\n",
    "\n",
    "# 5. Mostrar las probabilidades\n",
    "for i, prob in enumerate(py_given_x):\n",
    "    print(f\"p(y={class_names[i]} | x={x_value:.2f}) = {prob:.4f}\")\n",
    "\n",
    "# 6. Muestrear 10 valores de y según la distribución obtenida\n",
    "samples = np.random.choice(class_names, size=10, p=py_given_x)\n",
    "print(\"\\nMuestra de 10 valores de y dado x=4.75:\")\n",
    "print(samples)\n"
   ]
  }
 ],
 "metadata": {
  "kernelspec": {
   "display_name": "ml-para-ia",
   "language": "python",
   "name": "python3"
  },
  "language_info": {
   "codemirror_mode": {
    "name": "ipython",
    "version": 3
   },
   "file_extension": ".py",
   "mimetype": "text/x-python",
   "name": "python",
   "nbconvert_exporter": "python",
   "pygments_lexer": "ipython3",
   "version": "3.13.2"
  }
 },
 "nbformat": 4,
 "nbformat_minor": 2
}
